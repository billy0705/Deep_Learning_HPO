{
 "cells": [
  {
   "cell_type": "code",
   "execution_count": 1,
   "metadata": {},
   "outputs": [
    {
     "name": "stdout",
     "output_type": "stream",
     "text": [
      "hello\n"
     ]
    }
   ],
   "source": [
    "print(\"hello\")"
   ]
  },
  {
   "cell_type": "code",
   "execution_count": 22,
   "metadata": {},
   "outputs": [
    {
     "name": "stdout",
     "output_type": "stream",
     "text": [
      "Loading HPO-B handler\n",
      "Loading data...\n"
     ]
    }
   ],
   "source": [
    "from HPO_B.hpob_handler import HPOBHandler\n",
    "\n",
    "hpob_hdlr = HPOBHandler(root_dir=\"hpob-data/\", mode=\"v3\", surrogates_dir=\"saved-surrogates/\")\n"
   ]
  },
  {
   "cell_type": "code",
   "execution_count": 27,
   "metadata": {},
   "outputs": [
    {
     "name": "stdout",
     "output_type": "stream",
     "text": [
      "52\n",
      "data_cnt = 44401\n"
     ]
    }
   ],
   "source": [
    "search_space_id = \"5971\"\n",
    "# dataset_id = \"34536\"\n",
    "print(len(hpob_hdlr.meta_train_data[search_space_id]))\n",
    "\n",
    "data_cnt = 0\n",
    "for dataset_id in hpob_hdlr.meta_train_data[search_space_id]:\n",
    "    # print(dataset_id)\n",
    "    data_cnt += len(hpob_hdlr.meta_train_data[search_space_id][dataset_id][\"X\"])\n",
    "\n",
    "print(f\"{data_cnt = }\")\n",
    "        "
   ]
  },
  {
   "cell_type": "code",
   "execution_count": 25,
   "metadata": {},
   "outputs": [
    {
     "name": "stdout",
     "output_type": "stream",
     "text": [
      "2\n",
      "X\n",
      "95\n",
      "[0.0650013881848859, 0.0, 1.0, 0.0, 1.0, 0.9353875762206364, 0.0, 1.0, 0.0, 1.0, 0.5731762830694477, 0.2058107108867796, 0.014, 0.0, 0.0, 1.0]\n",
      "16\n",
      "[0.42369878234501784, 0.0, 1.0, 0.0, 1.0, 0.9298937589834532, 0.0, 1.0, 0.0, 1.0, 0.6639756118877461, 0.8988969137339076, 0.3434, 0.0, 0.0, 1.0]\n",
      "16\n",
      "[0.4241283625689863, 0.0, 1.0, 0.0, 1.0, 0.43694495896011853, 0.0, 1.0, 0.0, 1.0, 0.02488992684831173, 0.755662211923595, 0.0696, 0.0, 0.0, 1.0]\n",
      "16\n",
      "[0.29032663632515215, 0.4666666666666667, 0.0, 0.6617234177714154, 0.0, 0.1874224748758445, 0.6342325799385389, 0.0, 0.5337983782707293, 0.0, 0.5057579090100124, 0.24512315002962642, 0.0762, 0.0, 1.0, 0.0]\n",
      "16\n",
      "[0.5825358988075074, 0.5333333333333333, 0.0, 0.8329374138821645, 0.0, 0.8479226862564961, 0.3710362547241926, 0.0, 0.8302367972262326, 0.0, 0.2910727502484874, 0.10273837924149787, 0.3692, 0.0, 1.0, 0.0]\n",
      "16\n",
      "[0.21203131455804997, 0.0, 1.0, 0.0, 1.0, 0.10185820581596204, 0.0, 1.0, 0.0, 1.0, 0.5300694642232892, 0.5961548508711544, 0.6614, 0.0, 0.0, 1.0]\n",
      "16\n",
      "[0.21065444189944985, 0.0, 1.0, 0.0, 1.0, 0.09262607761673232, 0.0, 1.0, 0.0, 1.0, 0.27486771822769923, 0.9993078891869059, 0.3798, 0.0, 0.0, 1.0]\n",
      "16\n",
      "[0.12769371958364092, 0.0, 1.0, 0.0, 1.0, 0.6351186852452647, 0.0, 1.0, 0.0, 1.0, 0.3225634861478543, 0.25379860478143074, 0.2096, 0.0, 0.0, 1.0]\n",
      "16\n",
      "[0.08126157216657229, 0.0, 1.0, 0.0, 1.0, 0.563921419209887, 0.0, 1.0, 0.0, 1.0, 0.6858277530073509, 0.6823799132119706, 0.9886, 0.0, 0.0, 1.0]\n",
      "16\n",
      "[0.17604624960791473, 0.5333333333333333, 0.0, 0.6583522562538952, 0.0, 0.14414908813264737, 0.3107305096436076, 0.0, 0.4455425429341618, 0.0, 0.7373986374479475, 0.9868727667893866, 0.5438, 0.0, 1.0, 0.0]\n",
      "16\n",
      "[0.4205917314938553, 1.0, 0.0, 0.7276833676320245, 0.0, 0.45507725029459256, 0.3334029116177, 0.0, 0.10119686825853222, 0.0, 0.5135675694311286, 0.5063855731557417, 0.5286, 0.0, 1.0, 0.0]\n",
      "16\n",
      "y\n",
      "95\n",
      "[0.7]\n",
      "1\n",
      "[0.697]\n",
      "1\n",
      "[0.721]\n",
      "1\n",
      "[0.758]\n",
      "1\n",
      "[0.731]\n",
      "1\n",
      "[0.758]\n",
      "1\n",
      "[0.702]\n",
      "1\n",
      "[0.758]\n",
      "1\n",
      "[0.727]\n",
      "1\n",
      "[0.7]\n",
      "1\n",
      "[0.772]\n",
      "1\n"
     ]
    }
   ],
   "source": [
    "search_space_id = \"5971\"\n",
    "dataset_id = \"145972\"\n",
    "print(len(hpob_hdlr.meta_train_data[search_space_id][dataset_id]))\n",
    "\n",
    "for key in hpob_hdlr.meta_train_data[search_space_id][dataset_id]:\n",
    "    print(key)\n",
    "    print(len(hpob_hdlr.meta_train_data[search_space_id][dataset_id][key]))\n",
    "    # print(hpob_hdlr.meta_train_data[search_space_id][dataset_id][key])\n",
    "    for i in range(len(hpob_hdlr.meta_train_data[search_space_id][dataset_id][key])):\n",
    "        print(hpob_hdlr.meta_train_data[search_space_id][dataset_id][key][i])\n",
    "        print(len(hpob_hdlr.meta_train_data[search_space_id][dataset_id][key][i]))\n",
    "        if i == 10:\n",
    "            break\n"
   ]
  },
  {
   "cell_type": "code",
   "execution_count": null,
   "metadata": {},
   "outputs": [],
   "source": []
  }
 ],
 "metadata": {
  "kernelspec": {
   "display_name": "Python 3",
   "language": "python",
   "name": "python3"
  },
  "language_info": {
   "codemirror_mode": {
    "name": "ipython",
    "version": 3
   },
   "file_extension": ".py",
   "mimetype": "text/x-python",
   "name": "python",
   "nbconvert_exporter": "python",
   "pygments_lexer": "ipython3",
   "version": "3.12.4"
  }
 },
 "nbformat": 4,
 "nbformat_minor": 2
}
