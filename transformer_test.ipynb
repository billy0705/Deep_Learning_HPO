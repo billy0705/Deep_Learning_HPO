{
 "cells": [
  {
   "cell_type": "code",
   "execution_count": 1,
   "metadata": {},
   "outputs": [
    {
     "name": "stdout",
     "output_type": "stream",
     "text": [
      "Input Vector Shape: torch.Size([8, 5, 17])\n",
      "Embedding Vector Shape: torch.Size([8, 32, 1])\n"
     ]
    }
   ],
   "source": [
    "import torch\n",
    "from model.set_transformer import SetTransformer\n",
    "\n",
    "dim_input = 17 # x + y\n",
    "num_outputs = 32\n",
    "dim_output = 1\n",
    "\n",
    "model = SetTransformer(dim_input, num_outputs, dim_output)\n",
    "\n",
    "batch_size = 8\n",
    "num_elements = 5  # Number of tuples in each set\n",
    "\n",
    "X = torch.randn(batch_size, num_elements, dim_input)\n",
    "\n",
    "print(\"Input Vector Shape:\", X.shape)\n",
    "\n",
    "embedding_vector = model(X)\n",
    "\n",
    "print(\"Embedding Vector Shape:\", embedding_vector.shape)\n",
    "    \n"
   ]
  },
  {
   "cell_type": "code",
   "execution_count": 2,
   "metadata": {},
   "outputs": [
    {
     "name": "stdout",
     "output_type": "stream",
     "text": [
      "c Shape: torch.Size([8, 5, 17])\n",
      "x_bar Shape: torch.Size([8, 16])\n",
      "improve Shape: torch.Size([8, 1])\n",
      "Output Vector Shape: torch.Size([8, 16])\n"
     ]
    }
   ],
   "source": [
    "import torch\n",
    "from model.HPO_network import HPONetwork\n",
    "\n",
    "dim_input = 17 # x + y\n",
    "num_outputs = 32\n",
    "dim_output = 16\n",
    "\n",
    "model = HPONetwork(dim_input, num_outputs, dim_output)\n",
    "\n",
    "batch_size = 8\n",
    "num_elements = 5  # Number of tuples in each set\n",
    "\n",
    "c = torch.randn(batch_size, num_elements, dim_input)\n",
    "x_bar = torch.randn(batch_size, 16)\n",
    "improve = torch.randn(batch_size, 1)\n",
    "\n",
    "print(\"c Shape:\", c.shape)\n",
    "print(\"x_bar Shape:\", x_bar.shape)\n",
    "print(\"improve Shape:\", improve.shape)\n",
    "\n",
    "# Forward pass through the model\n",
    "embedding_vector = model(x_bar, improve, c)\n",
    "\n",
    "print(\"Output Vector Shape:\", embedding_vector.shape)\n",
    "    \n"
   ]
  },
  {
   "cell_type": "code",
   "execution_count": 1,
   "metadata": {},
   "outputs": [
    {
     "name": "stdout",
     "output_type": "stream",
     "text": [
      "self.schedule_method='cosine'\n"
     ]
    }
   ],
   "source": [
    "from HPO_dataset import HPODataset\n",
    "from torch.utils.data import DataLoader\n",
    "batch_size = 32\n",
    "training_data = HPODataset(\"./data/train.json\")\n",
    "# test_data = HPODataset(\"./data/test.json\")\n",
    "train_dataloader = DataLoader(training_data, batch_size=batch_size)\n",
    "# test_dataloader = DataLoader(test_data, batch_size=batch_size)"
   ]
  },
  {
   "cell_type": "code",
   "execution_count": 73,
   "metadata": {},
   "outputs": [
    {
     "name": "stdout",
     "output_type": "stream",
     "text": [
      "<class 'torch.Tensor'>\n",
      "<class 'torch.Tensor'>\n",
      "<class 'torch.Tensor'>\n",
      "<class 'torch.Tensor'>\n",
      "torch.Size([32, 16])\n",
      "torch.Size([32, 16])\n",
      "torch.Size([32])\n",
      "torch.Size([32, 5, 17])\n",
      "torch.float64\n"
     ]
    }
   ],
   "source": [
    "for batch, (x_bar, e, improve, c) in enumerate(train_dataloader):\n",
    "    print(type(x_bar))\n",
    "    print(type(e))\n",
    "    print(type(improve))\n",
    "    print(type(c))\n",
    "    print(x_bar.shape)\n",
    "    print(e.shape)\n",
    "    print(improve.shape)\n",
    "    print(c.shape)\n",
    "    print(c.dtype)\n",
    "    break"
   ]
  },
  {
   "cell_type": "code",
   "execution_count": null,
   "metadata": {},
   "outputs": [],
   "source": []
  }
 ],
 "metadata": {
  "kernelspec": {
   "display_name": ".venv",
   "language": "python",
   "name": "python3"
  },
  "language_info": {
   "codemirror_mode": {
    "name": "ipython",
    "version": 3
   },
   "file_extension": ".py",
   "mimetype": "text/x-python",
   "name": "python",
   "nbconvert_exporter": "python",
   "pygments_lexer": "ipython3",
   "version": "3.12.4"
  }
 },
 "nbformat": 4,
 "nbformat_minor": 2
}
